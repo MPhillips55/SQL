{
 "cells": [
  {
   "cell_type": "markdown",
   "metadata": {},
   "source": [
    "### SQL Queries for Mere Mortals\n",
    "\n",
    "#### Part 2 - SQL Basics\n",
    "\n",
    "#### Chapter 4 - Creating a simple query"
   ]
  },
  {
   "cell_type": "code",
   "execution_count": null,
   "metadata": {
    "collapsed": true
   },
   "outputs": [],
   "source": [
    "SELECT column_name \n",
    "FROM table_name \n",
    "WHERE search_condition \n",
    "GROUP BY column_name \n",
    "HAVING search_condition"
   ]
  },
  {
   "cell_type": "code",
   "execution_count": null,
   "metadata": {
    "collapsed": true
   },
   "outputs": [],
   "source": [
    "SELECT recipeid, recipetitle, recipeclassid, preparation\n",
    "FROM recipesexample.recipes\n",
    "LIMIT 50"
   ]
  },
  {
   "cell_type": "markdown",
   "metadata": {},
   "source": [
    "Control the order of columns using the column list"
   ]
  },
  {
   "cell_type": "code",
   "execution_count": null,
   "metadata": {
    "collapsed": true
   },
   "outputs": [],
   "source": [
    "SELECT preparation, recipeid, recipetitle, recipeclassid\n",
    "FROM recipesexample.recipes\n",
    "LIMIT 50"
   ]
  },
  {
   "cell_type": "markdown",
   "metadata": {},
   "source": [
    "An * will return all column, best to specify column names like above"
   ]
  },
  {
   "cell_type": "code",
   "execution_count": null,
   "metadata": {
    "collapsed": true
   },
   "outputs": [],
   "source": [
    "SELECT *\n",
    "FROM recipesexample.recipes\n",
    "LIMIT 50"
   ]
  },
  {
   "cell_type": "markdown",
   "metadata": {},
   "source": [
    "DISTINCT before column names to specify unique rows only. If used on multiple rows, will only return unique tuples. Hollywood is the city name (unique). Hollywood, FL and Hollywood, CA would be examples of unique if using multiple columns."
   ]
  },
  {
   "cell_type": "code",
   "execution_count": null,
   "metadata": {
    "collapsed": true
   },
   "outputs": [],
   "source": [
    "SELECT  DISTINCT recipetitle\n",
    "FROM recipesexample.recipes\n",
    "LIMIT 50"
   ]
  },
  {
   "cell_type": "code",
   "execution_count": null,
   "metadata": {
    "collapsed": true
   },
   "outputs": [],
   "source": [
    "SELECT DISTINCT recipeid, recipetitle, recipeclassid, preparation\n",
    "FROM recipesexample.recipes\n",
    "LIMIT 50"
   ]
  },
  {
   "cell_type": "markdown",
   "metadata": {},
   "source": [
    "ORDER BY sorts the resulting view, general default for most databases is ascending."
   ]
  },
  {
   "cell_type": "code",
   "execution_count": null,
   "metadata": {
    "collapsed": true
   },
   "outputs": [],
   "source": [
    "SELECT  recipetitle, recipeid\n",
    "FROM recipesexample.recipes\n",
    "ORDER BY recipetitle ASC\n",
    "LIMIT 50"
   ]
  },
  {
   "cell_type": "code",
   "execution_count": null,
   "metadata": {
    "collapsed": true
   },
   "outputs": [],
   "source": [
    "SELECT  recipetitle, recipeid\n",
    "FROM recipesexample.recipes\n",
    "ORDER BY recipetitle DESC\n",
    "LIMIT 50"
   ]
  },
  {
   "cell_type": "markdown",
   "metadata": {},
   "source": [
    "Can set a different sort order on each column"
   ]
  },
  {
   "cell_type": "code",
   "execution_count": null,
   "metadata": {
    "collapsed": true
   },
   "outputs": [],
   "source": [
    "SELECT  recipetitle, recipeid\n",
    "FROM recipesexample.recipes\n",
    "ORDER BY recipetitle DESC, recipeid ASC\n",
    "LIMIT 50"
   ]
  },
  {
   "cell_type": "markdown",
   "metadata": {},
   "source": [
    "Some products (ie Microsoft) allow you to specify TOP to get only the top results, either a # or %"
   ]
  },
  {
   "cell_type": "code",
   "execution_count": null,
   "metadata": {
    "collapsed": true
   },
   "outputs": [],
   "source": [
    "SELECT TOP 5 productname, retailprice\n",
    "FROM Products\n",
    "ORDER BY retailprice DESC"
   ]
  },
  {
   "cell_type": "code",
   "execution_count": null,
   "metadata": {
    "collapsed": true
   },
   "outputs": [],
   "source": [
    "SELECT TOP 10 PERCENT productname, retailprice\n",
    "FROM Products\n",
    "ORDER BY retailprice DESC"
   ]
  },
  {
   "cell_type": "markdown",
   "metadata": {},
   "source": [
    "#### Practice Set"
   ]
  },
  {
   "cell_type": "code",
   "execution_count": null,
   "metadata": {
    "collapsed": true
   },
   "outputs": [],
   "source": [
    "# all the information from employees table\n",
    "SELECT *\n",
    "FROM salesordersexample.employees\n",
    "LIMIT 10"
   ]
  },
  {
   "cell_type": "code",
   "execution_count": null,
   "metadata": {
    "collapsed": true
   },
   "outputs": [],
   "source": [
    "# show a list of cities in alpha. order, and the names of vendors in those cities\n",
    "SELECT vendcity, vendname\n",
    "FROM salesordersexample.vendors\n",
    "ORDER BY vendcity ASC"
   ]
  },
  {
   "cell_type": "code",
   "execution_count": null,
   "metadata": {
    "collapsed": true
   },
   "outputs": [],
   "source": [
    "# names/phone numbers of agents, listed last name, first name, phone number\n",
    "SELECT agtlastname, agtfirstname, agtphonenumber \n",
    "FROM entertainmentagencyexample.agents"
   ]
  },
  {
   "cell_type": "code",
   "execution_count": null,
   "metadata": {
    "collapsed": true
   },
   "outputs": [],
   "source": [
    "# information on all engagements\n",
    "SELECT *\n",
    "FROM entertainmentagencyexample.engagements"
   ]
  },
  {
   "cell_type": "code",
   "execution_count": null,
   "metadata": {
    "collapsed": true
   },
   "outputs": [],
   "source": [
    "# List all engagements and their start date, sort by date in desc order, and engagement in asc order\n",
    "SELECT engagementnumber, startdate\n",
    "FROM entertainmentagencyexample.engagements\n",
    "ORDER BY startdate DESC, engagementnumber ASC"
   ]
  },
  {
   "cell_type": "code",
   "execution_count": null,
   "metadata": {
    "collapsed": true
   },
   "outputs": [],
   "source": [
    "# show me a list of all subjects we offer\n",
    "SELECT subjectname\n",
    "FROM schoolschedulingexample.subjects"
   ]
  },
  {
   "cell_type": "code",
   "execution_count": null,
   "metadata": {
    "collapsed": true
   },
   "outputs": [],
   "source": [
    "# what kinds of titles are associated with our faculty\n",
    "SELECT DISTINCT title\n",
    "FROM schoolschedulingexample.faculty"
   ]
  },
  {
   "cell_type": "code",
   "execution_count": null,
   "metadata": {
    "collapsed": true
   },
   "outputs": [],
   "source": [
    "# list the names and phone numbers of the staff, sort by last name, first name\n",
    "SELECT stflastname, stffirstname, stfphonenumber\n",
    "FROM schoolschedulingexample.staff\n",
    "ORDER BY stflastname, stffirstname"
   ]
  },
  {
   "cell_type": "code",
   "execution_count": null,
   "metadata": {
    "collapsed": true
   },
   "outputs": [],
   "source": [
    "# list all the teams in alphabetical order\n",
    "SELECT teamname\n",
    "FROM bowlingleagueexample.teams\n",
    "ORDER BY teamname"
   ]
  },
  {
   "cell_type": "code",
   "execution_count": null,
   "metadata": {
    "collapsed": true
   },
   "outputs": [],
   "source": [
    "# list the bowling score info for each member\n",
    "SELECT matchid, gamenumber, bowlerid, rawscore\n",
    "FROM bowlingleagueexample.bowler_scores"
   ]
  },
  {
   "cell_type": "code",
   "execution_count": null,
   "metadata": {
    "collapsed": true
   },
   "outputs": [],
   "source": [
    "# a list of bowlers and their addresses, sort in alpha order\n",
    "select bowlerfirstname, bowlerlastname, bowleraddress, bowlercity, bowlerstate\n",
    "from bowlingleagueexample.bowlers\n",
    "ORDER BY bowlerlastname, bowlerfirstname"
   ]
  },
  {
   "cell_type": "code",
   "execution_count": null,
   "metadata": {
    "collapsed": true
   },
   "outputs": [],
   "source": [
    "# list of all ingredients in the database\n",
    "select ingredientname\n",
    "from recipesexample.ingredients"
   ]
  },
  {
   "cell_type": "code",
   "execution_count": null,
   "metadata": {
    "collapsed": true
   },
   "outputs": [],
   "source": [
    "# list the main recipe information, sort it by recipe title\n",
    "select recipetitle, preparation, notes\n",
    "from recipesexample.recipes\n",
    "order by recipetitle"
   ]
  }
 ],
 "metadata": {
  "kernelspec": {
   "display_name": "Python 3",
   "language": "python",
   "name": "python3"
  },
  "language_info": {
   "codemirror_mode": {
    "name": "ipython",
    "version": 3
   },
   "file_extension": ".py",
   "mimetype": "text/x-python",
   "name": "python",
   "nbconvert_exporter": "python",
   "pygments_lexer": "ipython3",
   "version": "3.6.2"
  }
 },
 "nbformat": 4,
 "nbformat_minor": 2
}
